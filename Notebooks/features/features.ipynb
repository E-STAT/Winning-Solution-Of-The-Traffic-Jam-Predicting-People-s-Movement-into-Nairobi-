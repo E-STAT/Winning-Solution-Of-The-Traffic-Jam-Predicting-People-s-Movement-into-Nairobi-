{
 "cells": [
  {
   "cell_type": "code",
   "execution_count": 1,
   "metadata": {},
   "outputs": [],
   "source": [
    "import sys  \n",
    "sys.path.append(\"../../\")\n",
    "from LIB.utils import * \n",
    "from datetime import timedelta"
   ]
  },
  {
   "cell_type": "code",
   "execution_count": 2,
   "metadata": {},
   "outputs": [],
   "source": [
    "train_df=pd.read_csv(\"./final_data/proceed_train.csv\")\n",
    "train_df.date=pd.to_datetime(train_df.date)\n",
    "test=pd.read_csv(\"./final_data/proceed_test.csv\")\n",
    "test.date=pd.to_datetime(test.date)\n"
   ]
  },
  {
   "cell_type": "code",
   "execution_count": 3,
   "metadata": {},
   "outputs": [],
   "source": [
    "test[\"train\"]=0\n",
    "train_df[\"train\"]=1\n",
    "data=pd.concat([test,train_df])\n",
    "data.sort_values([\"travel_from\",\"date\"],inplace=True,ascending=True)\n",
    "data[\"diff_btw_0_1_next_bus\"]=(data[\"date\"]-data.groupby([\"travel_from\"]).date.shift(-1)).dt.total_seconds()/60/60\n",
    "data[\"diff_btw_0_1_previous_bus\"]=(data[\"date\"]-data.groupby([\"travel_from\"]).date.shift(1)).dt.total_seconds()/60/60\n",
    "data[\"diff_btw_0_2_next_bus\"]=(data[\"date\"]-data.groupby([\"travel_from\"]).date.shift(-2)).dt.total_seconds()/60/60\n",
    "data[\"diff_btw_0_2_previous_bus\"]=(data[\"date\"]-data.groupby([\"travel_from\"]).date.shift(2)).dt.total_seconds()/60/60\n",
    "data[\"diff_btw_0_3_next_bus\"]=(data[\"date\"]-data.groupby([\"travel_from\"]).date.shift(-3)).dt.total_seconds()/60/60\n",
    "data[\"diff_btw_0_3_previous_bus\"]=(data[\"date\"]-data.groupby([\"travel_from\"]).date.shift(3)).dt.total_seconds()/60/60\n",
    "data[\"diff_btw_next_previous_bus\"]=(data.groupby([\"travel_from\"]).date.shift(-1)-data.groupby([\"travel_from\"]).date.shift(1)).dt.total_seconds()/60/60\n",
    "fea=['diff_btw_0_1_next_bus', 'diff_btw_0_1_previous_bus', 'diff_btw_0_2_next_bus', 'diff_btw_0_2_previous_bus',\n",
    "     'diff_btw_0_3_next_bus', 'diff_btw_0_3_previous_bus',\n",
    "     'diff_btw_next_previous_bus']\n",
    "data[fea]=data.groupby([\"travel_from\"])[fea].fillna(method=\"ffill\")\n",
    "data[fea]=data.groupby([\"travel_from\"])[fea].fillna(method=\"backfill\")\n",
    "\n",
    "for i in [1,3,5,7,10,15] :\n",
    "    data[\"count_trip_per_{}min_travel_from\".format(str(i))]=data.groupby([pd.Grouper(key=\"date\",freq='{}min'.format(i)),\"travel_from\"]).ride_id.transform(\"count\")\n",
    "    data[\"count_trip_per_{}min\".format(str(i))]=data.groupby([pd.Grouper(key=\"date\",freq='{}min'.format(i))]).ride_id.transform(\"count\")"
   ]
  },
  {
   "cell_type": "code",
   "execution_count": 7,
   "metadata": {},
   "outputs": [],
   "source": [
    "holidays_date=[datetime(2018,1,1),\n",
    "              datetime(2018,3,30),\n",
    "              datetime(2018,4,2),\n",
    "              datetime(2018,6,1),\n",
    "              datetime(2018,6,15),\n",
    "              datetime(2017,10,20),\n",
    "              datetime(2017,11,7),\n",
    "              datetime(2017,12,12),\n",
    "              datetime(2017,12,25),\n",
    "              datetime(2017,12,26)]\n",
    "                                      \n",
    "holidays_date_mins_one_day=[ (day- timedelta(days=1)).date() for day in holidays_date]\n",
    "holidays_date_mins_two_day=[ (day- timedelta(days=2)).date() for day in holidays_date]\n",
    "\n",
    "holidays_date_plus_one_day=[ (day+ timedelta(days=1)).date() for day in holidays_date]\n",
    "holidays_date=[ day.date() for day in holidays_date]\n",
    "\n",
    "data[\"is_holidays\"]=0\n",
    "data[\"is_after_toomorw_holidays\"]=0\n",
    "\n",
    "\n",
    "data.loc[data.date.dt.date.isin(holidays_date),\"is_holidays\"]=1\n",
    "data.loc[data.date.dt.date.isin(holidays_date_mins_two_day),\"is_after_toomorw_holidays\"]=1"
   ]
  },
  {
   "cell_type": "code",
   "execution_count": 8,
   "metadata": {},
   "outputs": [],
   "source": [
    "distance = {'Migori': 372 , 'Keroka': 281, 'Homa Bay':364, 'Kisii':305.1, 'Keumbu':295, 'Rongo':332,\n",
    "'Kijauri':271, 'Oyugis':330.6, 'Awendo':351, 'Sirare':392, 'Nyachenge':326, 'Kehancha': 387.7,\n",
    "'Kendu Bay':347, 'Sori':399, 'Rodi':348, 'Mbita':401, 'Ndhiwa': 371}\n",
    "data[\"travel_from_distance\"]=data.travel_from.map(distance)"
   ]
  },
  {
   "cell_type": "code",
   "execution_count": 9,
   "metadata": {},
   "outputs": [],
   "source": [
    "time = {'Migori': 7*60+8 , 'Keroka': 5*60, 'Homa Bay':7*60, 'Kisii':5*60+34, 'Keumbu':5*60+20, 'Rongo':6*60+21,\n",
    "'Kijauri':60*4+50,'Oyugis':5*60+50, 'Awendo':6*60+38, 'Sirare':7*60+30, 'Nyachenge':6*60+10, 'Kehancha':7*60+10,\n",
    "'Kendu Bay':6*60+10, 'Sori':7*60+30, 'Rodi':6*60+40, 'Mbita':7*60+23, 'Ndhiwa': 7*60}\n",
    "data[\"travel_from_time\"]=data.travel_from.map(time)"
   ]
  },
  {
   "cell_type": "code",
   "execution_count": 10,
   "metadata": {},
   "outputs": [],
   "source": [
    "data[\"Speed\"]=data.travel_from_time/data.travel_from_distance\n"
   ]
  },
  {
   "cell_type": "code",
   "execution_count": 11,
   "metadata": {},
   "outputs": [],
   "source": [
    "from datetime import datetime, timedelta\n",
    "time = {'Migori': 7*60+8 , 'Keroka': 5*60, 'Homa Bay':7*60, 'Kisii':5*60+34, 'Keumbu':5*60+20, 'Rongo':6*60+21,\n",
    "'Kijauri':60*4+50,'Oyugis':5*60+50, 'Awendo':6*60+38, 'Sirare':7*60+30, 'Nyachenge':6*60+10, 'Kehancha':7*60+10,\n",
    "'Kendu Bay':6*60+10, 'Sori':7*60+30, 'Rodi':6*60+40, 'Mbita':7*60+23, 'Ndhiwa': 7*60}\n",
    "for key in time.keys(): \n",
    "    time[key]=timedelta( minutes=time[key])\n",
    "data[\"travel_from_date\"]=data.travel_from.map(time)\n",
    "data[\"arrived_date\"]=data.date+ data.travel_from_date\n",
    "data[\"hod_arrived_date\"]=data[\"arrived_date\"].dt.hour\n",
    "data[\"minute_arrived_date\"]=data[\"arrived_date\"].dt.minute\n",
    "del data[\"travel_from_date\"],data[\"arrived_date\"]\n",
    "data[\"is_rush_hour\"]=0\n",
    "data.loc[data.hod_arrived_date.between(7,17),\"is_rush_hour\"]=1"
   ]
  },
  {
   "cell_type": "code",
   "execution_count": 12,
   "metadata": {},
   "outputs": [],
   "source": [
    "external_data=pd.read_csv(\"./final_data/weather_mean.csv\")\n",
    "\n",
    "external_data[\"date\"]=pd.to_datetime(external_data.date).dt.date\n",
    "data[\"12H\"]=data[\"hour\"].apply(lambda x : 1 if 0<=x<12 else  0 )\n",
    "data.date=data.date.dt.date\n",
    "data=data.merge(external_data,how=\"left\",on=[\"12H\",\"date\"])"
   ]
  },
  {
   "cell_type": "code",
   "execution_count": 13,
   "metadata": {},
   "outputs": [],
   "source": [
    "del data[\"year_woy\"]"
   ]
  },
  {
   "cell_type": "code",
   "execution_count": 14,
   "metadata": {},
   "outputs": [],
   "source": [
    "def haversine(latlong1, latlong2):\n",
    "    lat_1s = np.array([x[0] for x in latlong1])\n",
    "    lon_1s = np.array([x[1] for x in latlong1])\n",
    "    lat_2s = np.array([x[0] for x in latlong2])\n",
    "    lon_2s = np.array([x[1] for x in latlong2])\n",
    "    lon1, lat1, lon2, lat2 = map(np.radians, [lon_1s, lat_1s, lon_2s, lat_2s])\n",
    "    dlon = lon2 - lon1\n",
    "    dlat = lat2 - lat1\n",
    "    a = np.sin(dlat/2.0)**2 + np.cos(lat1) * np.cos(lat2) * np.sin(dlon/2.0)**2\n",
    "    km = 6367 * 2 * np.arcsin(np.sqrt(a))\n",
    "    return km\n",
    "\n",
    "\n",
    "\n",
    "def bearing(latlong1, latlong2):\n",
    "    lat1 = np.array([x[0] for x in latlong1])\n",
    "    lon1 = np.array([x[1] for x in latlong1])\n",
    "    lat2 = np.array([x[0] for x in latlong2])\n",
    "    lon2 = np.array([x[1] for x in latlong2])\n",
    "    delta_lon = np.radians(lon2 - lon1)\n",
    "    lon1, lat1, lon2, lat2 = map(np.radians, [lon1, lat1, lon2, lat2])\n",
    "    x = np.cos(lat2) * np.sin(delta_lon)\n",
    "    y = np.cos(lat1) * np.sin(lat2) - np.sin(lat1) * np.cos(lat2) * np.cos(delta_lon)\n",
    "    return np.degrees(np.arctan2(x, y))"
   ]
  },
  {
   "cell_type": "code",
   "execution_count": 15,
   "metadata": {},
   "outputs": [],
   "source": [
    "lat = {'Migori': -1.063590 , 'Keroka': -0.775880, 'Homa Bay':-0.527180, 'Kisii':-0.674230, 'Keumbu':-0.734310, 'Rongo':-0.755324,\n",
    "'Kijauri':-0.772980, 'Oyugis':-0.509360, 'Awendo':-0.893820, 'Sirare':-1.246610, 'Nyachenge':-0.726110, 'Kehancha': -1.192040,\n",
    "'Kendu Bay':-0.369200, 'Sori':-0.843329, 'Rodi':-0.624863, 'Mbita':-0.421886, 'Ndhiwa': -0.733300}\n",
    "\n",
    "Long = {'Migori': 34.472919 , 'Keroka': 34.945740, 'Homa Bay':34.455711, 'Kisii':34.770741, 'Keumbu':34.846291, 'Rongo':34.599899,\n",
    "'Kijauri':34.967369, 'Oyugis':34.735409, 'Awendo':34.530819, 'Sirare':34.475368, 'Nyachenge':34.648750, 'Kehancha': 34.621380,\n",
    "'Kendu Bay':34.652802, 'Sori':34.158842, 'Rodi':34.502402, 'Mbita':34.207587, 'Ndhiwa': 34.366600}\n",
    "data[\"travel_from_lat\"]=data.travel_from.map(lat)\n",
    "data[\"travel_from_Long\"]=data.travel_from.map(Long)\n",
    "data[\"Afya_Centr_Long\"]=36.827845\n",
    "data[\"Afya_Centr_lat\"]=-1.287811\n",
    "data[\"haversine_distance\"]=haversine(data[['travel_from_lat', 'travel_from_Long']].apply(tuple, axis=1),\n",
    "                                    data[['Afya_Centr_lat', 'Afya_Centr_Long']].apply(tuple, axis=1))\n",
    "\n",
    "data[\"bearing_distance\"]=bearing(data[['travel_from_lat', 'travel_from_Long']].apply(tuple, axis=1),\n",
    "                                    data[['Afya_Centr_lat', 'Afya_Centr_Long']].apply(tuple, axis=1))\n",
    "del data[\"Afya_Centr_Long\"],data[\"Afya_Centr_lat\"]"
   ]
  },
  {
   "cell_type": "code",
   "execution_count": 16,
   "metadata": {},
   "outputs": [
    {
     "name": "stdout",
     "output_type": "stream",
     "text": [
      "car_type\n",
      "travel_from\n",
      "year\n"
     ]
    }
   ],
   "source": [
    "train_df=data[data.train==1]\n",
    "test_df=data[data.train==0]\n",
    "test_df.drop([\"number_of_ticket\"],axis=1,inplace=True)\n",
    "map_categorical_feautres(Data=[train_df,test_df],columns=[\"car_type\",\"travel_from\",\"year\"])  \n",
    "uber=pd.read_csv(\"./final_data/uber_data.csv\")\n",
    "train_df=train_df.merge(uber,how=\"left\",on=\"ride_id\")\n",
    "test_df=test_df.merge(uber,how=\"left\",on=\"ride_id\")"
   ]
  },
  {
   "cell_type": "code",
   "execution_count": 17,
   "metadata": {},
   "outputs": [],
   "source": [
    "col_to_aggr=[\n",
    "            [\"hour\"],\n",
    "            [\"travel_from\"],\n",
    "            [\"minute\"] ,\n",
    "            [\"hour\",\"dayofweek\"],\n",
    "            [\"hour\",\"travel_from\"],\n",
    "            [\"dayofweek\",\"travel_from\"] ,\n",
    "            [\"minute\",\"travel_from\"] \n",
    " ]\n",
    "train_df,test_df=aggr_func(train=train_df,test=test_df,vars_to_agg=col_to_aggr,func=[\"mean\"],\n",
    "         vars_be_agg=\"number_of_ticket\",fillnan=True,bagging=False,ID=\"ride_id\" ,n_folds=6,shuffle=True)\n"
   ]
  },
  {
   "cell_type": "code",
   "execution_count": 18,
   "metadata": {},
   "outputs": [],
   "source": [
    "col_to_aggr=[\"travel_from\"]\n",
    "train_df,test_df=aggr_func(train=train_df,test=test_df,vars_to_agg=col_to_aggr,func=[\"sum\"],\n",
    "         vars_be_agg=\"number_of_ticket\",fillnan=True,bagging=False,ID=\"ride_id\" ,n_folds=6,shuffle=True)"
   ]
  },
  {
   "cell_type": "code",
   "execution_count": 19,
   "metadata": {},
   "outputs": [],
   "source": [
    "train_df.number_of_ticket_by_travel_from_sum=train_df.number_of_ticket_by_travel_from_sum/train_df.number_of_ticket.sum()\n",
    "test_df.number_of_ticket_by_travel_from_sum=test_df.number_of_ticket_by_travel_from_sum/train_df.number_of_ticket.sum()\n"
   ]
  },
  {
   "cell_type": "code",
   "execution_count": 22,
   "metadata": {},
   "outputs": [],
   "source": [
    "col_to_remove=[ 'bearing_distance', 'car_type',\n",
    "                      'dayofmonth', 'dayofweek', 'dayofyear', 'diff_btw_0_3_previous_bus', \n",
    "                      'geometric_mean_travel_time_hod_arrved_date', 'geometric_standard_deviation_travel_time_dow', \n",
    "                      'geometric_standard_deviation_travel_time_hod_after_8h', 'geometric_standard_deviation_travel_time_hod_after_9h', \n",
    "                      'geometric_standard_deviation_travel_time_hod_arrved_date', 'geometric_standard_deviation_travel_time_month', \n",
    "                      'hod_arrived_date', 'hour', 'max_capacity', 'mean_travel_time_hod_arrved_date', \n",
    "                      'minute_arrived_date', 'month', 'quarter', \n",
    "                      'standard_deviation_travel_time_dow', 'standard_deviation_travel_time_hod_after_8h', \n",
    "                      'standard_deviation_travel_time_hod_after_9h', 'standard_deviation_travel_time_hod_arrved_date', \n",
    "                      'standard_deviation_travel_time_month', 'train', 'travel_date', \n",
    "                      'travel_from', 'travel_from_Long', 'travel_from_lat', 'travel_time']"
   ]
  },
  {
   "cell_type": "code",
   "execution_count": 23,
   "metadata": {},
   "outputs": [],
   "source": [
    "v=\"final\"\n",
    "\n",
    "train_df.drop(col_to_remove,axis=1).to_csv(\"./final_data/train_{}.csv\".format(v),index=False)\n",
    "test_df.drop(col_to_remove,axis=1).to_csv(\"./final_data/test_{}.csv\".format(v),index=False)"
   ]
  },
  {
   "cell_type": "code",
   "execution_count": null,
   "metadata": {},
   "outputs": [],
   "source": []
  }
 ],
 "metadata": {
  "kernelspec": {
   "display_name": "Python 3",
   "language": "python",
   "name": "python3"
  },
  "language_info": {
   "codemirror_mode": {
    "name": "ipython",
    "version": 3
   },
   "file_extension": ".py",
   "mimetype": "text/x-python",
   "name": "python",
   "nbconvert_exporter": "python",
   "pygments_lexer": "ipython3",
   "version": "3.5.2"
  }
 },
 "nbformat": 4,
 "nbformat_minor": 2
}

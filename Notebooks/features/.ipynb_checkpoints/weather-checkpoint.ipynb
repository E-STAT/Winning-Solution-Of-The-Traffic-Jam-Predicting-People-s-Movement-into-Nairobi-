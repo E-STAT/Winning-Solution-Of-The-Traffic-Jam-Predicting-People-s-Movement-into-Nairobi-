{
 "cells": [
  {
   "cell_type": "code",
   "execution_count": 13,
   "metadata": {},
   "outputs": [],
   "source": [
    "import sys  \n",
    "sys.path.append(\"../../../\")\n",
    "from LIB.utils import * \n",
    "from datetime import timedelta"
   ]
  },
  {
   "cell_type": "code",
   "execution_count": 14,
   "metadata": {},
   "outputs": [
    {
     "data": {
      "text/html": [
       "<div>\n",
       "<style scoped>\n",
       "    .dataframe tbody tr th:only-of-type {\n",
       "        vertical-align: middle;\n",
       "    }\n",
       "\n",
       "    .dataframe tbody tr th {\n",
       "        vertical-align: top;\n",
       "    }\n",
       "\n",
       "    .dataframe thead th {\n",
       "        text-align: right;\n",
       "    }\n",
       "</style>\n",
       "<table border=\"1\" class=\"dataframe\">\n",
       "  <thead>\n",
       "    <tr style=\"text-align: right;\">\n",
       "      <th></th>\n",
       "      <th>date</th>\n",
       "      <th>12H</th>\n",
       "      <th>T_mean</th>\n",
       "      <th>P0_mean</th>\n",
       "    </tr>\n",
       "  </thead>\n",
       "  <tbody>\n",
       "    <tr>\n",
       "      <th>0</th>\n",
       "      <td>2017-10-17</td>\n",
       "      <td>0</td>\n",
       "      <td>24.7000</td>\n",
       "      <td>629.9300</td>\n",
       "    </tr>\n",
       "    <tr>\n",
       "      <th>1</th>\n",
       "      <td>2017-10-17</td>\n",
       "      <td>1</td>\n",
       "      <td>18.8571</td>\n",
       "      <td>629.3857</td>\n",
       "    </tr>\n",
       "    <tr>\n",
       "      <th>2</th>\n",
       "      <td>2017-10-18</td>\n",
       "      <td>0</td>\n",
       "      <td>24.4000</td>\n",
       "      <td>628.9900</td>\n",
       "    </tr>\n",
       "    <tr>\n",
       "      <th>3</th>\n",
       "      <td>2017-10-18</td>\n",
       "      <td>1</td>\n",
       "      <td>19.9000</td>\n",
       "      <td>629.1500</td>\n",
       "    </tr>\n",
       "    <tr>\n",
       "      <th>4</th>\n",
       "      <td>2017-10-19</td>\n",
       "      <td>0</td>\n",
       "      <td>23.6250</td>\n",
       "      <td>629.7375</td>\n",
       "    </tr>\n",
       "  </tbody>\n",
       "</table>\n",
       "</div>"
      ],
      "text/plain": [
       "         date  12H  T_mean  P0_mean\n",
       "0  2017-10-17    0 24.7000 629.9300\n",
       "1  2017-10-17    1 18.8571 629.3857\n",
       "2  2017-10-18    0 24.4000 628.9900\n",
       "3  2017-10-18    1 19.9000 629.1500\n",
       "4  2017-10-19    0 23.6250 629.7375"
      ]
     },
     "execution_count": 14,
     "metadata": {},
     "output_type": "execute_result"
    }
   ],
   "source": [
    "weather=pd.read_csv(\"./weather.csv\")\n",
    "weather.columns=['Time', 'T', 'P0', 'P', 'U', 'DD',\n",
    "       'Ff', 'ff10', 'WW', 'W', 'c', 'VV', 'Td']\n",
    "weather[\"Time\"]=pd.to_datetime(weather.Time,format=\"%d.%m.%Y %H:%M\")\n",
    "weather[\"date\"]=weather[\"Time\"].dt.date\n",
    "weather[\"hour\"]=weather[\"Time\"].dt.hour\n",
    "weather[\"12H\"]=weather[\"hour\"].apply(lambda x : 1 if 0<=x<12 else  0 )\n",
    "weather_mean=weather.groupby([\"date\",\"12H\"])[[\"T\",\"P0\"]].agg([\"mean\"])\n",
    "weather_mean.columns=[e[0]+\"_\"+e[1] for e  in weather_mean.columns.tolist()]\n",
    "weather_mean.reset_index(inplace=True)\n",
    "weather_mean.head()"
   ]
  },
  {
   "cell_type": "code",
   "execution_count": 15,
   "metadata": {},
   "outputs": [],
   "source": [
    "weather_mean.to_csv(\"weather_mean.csv\",index=False)"
   ]
  }
 ],
 "metadata": {
  "kernelspec": {
   "display_name": "Python 3",
   "language": "python",
   "name": "python3"
  },
  "language_info": {
   "codemirror_mode": {
    "name": "ipython",
    "version": 3
   },
   "file_extension": ".py",
   "mimetype": "text/x-python",
   "name": "python",
   "nbconvert_exporter": "python",
   "pygments_lexer": "ipython3",
   "version": "3.5.2"
  }
 },
 "nbformat": 4,
 "nbformat_minor": 2
}

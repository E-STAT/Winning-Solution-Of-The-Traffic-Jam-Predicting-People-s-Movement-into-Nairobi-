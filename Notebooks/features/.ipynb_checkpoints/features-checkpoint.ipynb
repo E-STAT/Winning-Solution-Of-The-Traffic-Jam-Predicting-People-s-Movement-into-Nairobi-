{
 "cells": [
  {
   "cell_type": "code",
   "execution_count": 83,
   "metadata": {},
   "outputs": [],
   "source": [
    "import sys  \n",
    "sys.path.append(\"../../\")\n",
    "from LIB.utils import * \n",
    "from datetime import timedelta"
   ]
  },
  {
   "cell_type": "code",
   "execution_count": 84,
   "metadata": {},
   "outputs": [],
   "source": [
    "train=pd.read_csv(\"../data/train_revised_11.09.2018 (1).zip\")\n",
    "test=pd.read_csv(\"../data/test_questions (1).csv\")\n",
    "\n",
    "Target=train.groupby([\"ride_id\"]).seat_number.count().rename(\"number_of_ticket\").reset_index()\n",
    "train_df=train.drop_duplicates(\"ride_id\").drop(['payment_method', 'payment_receipt', 'seat_number'],axis=1)\n",
    "train_df=train_df.merge(Target,how=\"left\",on=\"ride_id\")\n",
    "\n",
    "train_df.drop([\"travel_to\"],axis=1,inplace=True)\n",
    "test.drop([\"travel_to\"],axis=1,inplace=True)"
   ]
  },
  {
   "cell_type": "code",
   "execution_count": 85,
   "metadata": {},
   "outputs": [
    {
     "name": "stdout",
     "output_type": "stream",
     "text": [
      "shape of data : (51645, 10)\n"
     ]
    },
    {
     "data": {
      "text/html": [
       "<div>\n",
       "<style scoped>\n",
       "    .dataframe tbody tr th:only-of-type {\n",
       "        vertical-align: middle;\n",
       "    }\n",
       "\n",
       "    .dataframe tbody tr th {\n",
       "        vertical-align: top;\n",
       "    }\n",
       "\n",
       "    .dataframe thead th {\n",
       "        text-align: right;\n",
       "    }\n",
       "</style>\n",
       "<table border=\"1\" class=\"dataframe\">\n",
       "  <thead>\n",
       "    <tr style=\"text-align: right;\">\n",
       "      <th></th>\n",
       "      <th>Columns name</th>\n",
       "      <th>Type</th>\n",
       "      <th>Count unique values</th>\n",
       "      <th>Count Nan values</th>\n",
       "      <th>Ratio Nan values</th>\n",
       "      <th>Unique   values</th>\n",
       "      <th>Max</th>\n",
       "      <th>Min</th>\n",
       "      <th>Mean</th>\n",
       "    </tr>\n",
       "  </thead>\n",
       "  <tbody>\n",
       "    <tr>\n",
       "      <th>0</th>\n",
       "      <td>ride_id</td>\n",
       "      <td>int64</td>\n",
       "      <td>6249</td>\n",
       "      <td>0</td>\n",
       "      <td>0.0000</td>\n",
       "      <td>[1442, 5437, 5710, 5777, 5778, 5781, 5784, 578...</td>\n",
       "      <td>20117</td>\n",
       "      <td>1442</td>\n",
       "      <td>10188.6458</td>\n",
       "    </tr>\n",
       "    <tr>\n",
       "      <th>1</th>\n",
       "      <td>seat_number</td>\n",
       "      <td>object</td>\n",
       "      <td>61</td>\n",
       "      <td>0</td>\n",
       "      <td>0.0000</td>\n",
       "      <td>[15A, 14A, 8B, 19A, 11A, 18B, 25, 21B, 22A, 17...</td>\n",
       "      <td>0</td>\n",
       "      <td>0</td>\n",
       "      <td>0.0000</td>\n",
       "    </tr>\n",
       "    <tr>\n",
       "      <th>2</th>\n",
       "      <td>payment_method</td>\n",
       "      <td>object</td>\n",
       "      <td>2</td>\n",
       "      <td>0</td>\n",
       "      <td>0.0000</td>\n",
       "      <td>[Mpesa, Cash]</td>\n",
       "      <td>0</td>\n",
       "      <td>0</td>\n",
       "      <td>0.0000</td>\n",
       "    </tr>\n",
       "    <tr>\n",
       "      <th>3</th>\n",
       "      <td>payment_receipt</td>\n",
       "      <td>object</td>\n",
       "      <td>51645</td>\n",
       "      <td>0</td>\n",
       "      <td>0.0000</td>\n",
       "      <td>[UZUEHCBUSO, TIHLBUSGTE, EQX8Q5G19O, SGP18CL0M...</td>\n",
       "      <td>0</td>\n",
       "      <td>0</td>\n",
       "      <td>0.0000</td>\n",
       "    </tr>\n",
       "    <tr>\n",
       "      <th>4</th>\n",
       "      <td>travel_date</td>\n",
       "      <td>object</td>\n",
       "      <td>149</td>\n",
       "      <td>0</td>\n",
       "      <td>0.0000</td>\n",
       "      <td>[17-10-17, 19-11-17, 26-11-17, 27-11-17, 20-04...</td>\n",
       "      <td>0</td>\n",
       "      <td>0</td>\n",
       "      <td>0.0000</td>\n",
       "    </tr>\n",
       "    <tr>\n",
       "      <th>5</th>\n",
       "      <td>travel_time</td>\n",
       "      <td>object</td>\n",
       "      <td>78</td>\n",
       "      <td>0</td>\n",
       "      <td>0.0000</td>\n",
       "      <td>[7:15, 7:12, 7:05, 7:10, 7:09, 5:10, 9:50, 7:0...</td>\n",
       "      <td>0</td>\n",
       "      <td>0</td>\n",
       "      <td>0.0000</td>\n",
       "    </tr>\n",
       "    <tr>\n",
       "      <th>6</th>\n",
       "      <td>travel_from</td>\n",
       "      <td>object</td>\n",
       "      <td>17</td>\n",
       "      <td>0</td>\n",
       "      <td>0.0000</td>\n",
       "      <td>[Migori, Keroka, Homa Bay, Kisii, Keumbu, Rong...</td>\n",
       "      <td>0</td>\n",
       "      <td>0</td>\n",
       "      <td>0.0000</td>\n",
       "    </tr>\n",
       "    <tr>\n",
       "      <th>7</th>\n",
       "      <td>travel_to</td>\n",
       "      <td>object</td>\n",
       "      <td>1</td>\n",
       "      <td>0</td>\n",
       "      <td>0.0000</td>\n",
       "      <td>[Nairobi]</td>\n",
       "      <td>0</td>\n",
       "      <td>0</td>\n",
       "      <td>0.0000</td>\n",
       "    </tr>\n",
       "    <tr>\n",
       "      <th>8</th>\n",
       "      <td>car_type</td>\n",
       "      <td>object</td>\n",
       "      <td>2</td>\n",
       "      <td>0</td>\n",
       "      <td>0.0000</td>\n",
       "      <td>[Bus, shuttle]</td>\n",
       "      <td>0</td>\n",
       "      <td>0</td>\n",
       "      <td>0.0000</td>\n",
       "    </tr>\n",
       "    <tr>\n",
       "      <th>9</th>\n",
       "      <td>max_capacity</td>\n",
       "      <td>int64</td>\n",
       "      <td>2</td>\n",
       "      <td>0</td>\n",
       "      <td>0.0000</td>\n",
       "      <td>[49, 11]</td>\n",
       "      <td>49</td>\n",
       "      <td>11</td>\n",
       "      <td>34.5343</td>\n",
       "    </tr>\n",
       "  </tbody>\n",
       "</table>\n",
       "</div>"
      ],
      "text/plain": [
       "      Columns name   Type   Count unique values  Count Nan values  \\\n",
       "0          ride_id   int64                 6249                 0   \n",
       "1      seat_number  object                   61                 0   \n",
       "2   payment_method  object                    2                 0   \n",
       "3  payment_receipt  object                51645                 0   \n",
       "4      travel_date  object                  149                 0   \n",
       "5      travel_time  object                   78                 0   \n",
       "6      travel_from  object                   17                 0   \n",
       "7        travel_to  object                    1                 0   \n",
       "8         car_type  object                    2                 0   \n",
       "9     max_capacity   int64                    2                 0   \n",
       "\n",
       "   Ratio Nan values                                    Unique   values    Max  \\\n",
       "0            0.0000  [1442, 5437, 5710, 5777, 5778, 5781, 5784, 578...  20117   \n",
       "1            0.0000  [15A, 14A, 8B, 19A, 11A, 18B, 25, 21B, 22A, 17...      0   \n",
       "2            0.0000                                      [Mpesa, Cash]      0   \n",
       "3            0.0000  [UZUEHCBUSO, TIHLBUSGTE, EQX8Q5G19O, SGP18CL0M...      0   \n",
       "4            0.0000  [17-10-17, 19-11-17, 26-11-17, 27-11-17, 20-04...      0   \n",
       "5            0.0000  [7:15, 7:12, 7:05, 7:10, 7:09, 5:10, 9:50, 7:0...      0   \n",
       "6            0.0000  [Migori, Keroka, Homa Bay, Kisii, Keumbu, Rong...      0   \n",
       "7            0.0000                                          [Nairobi]      0   \n",
       "8            0.0000                                     [Bus, shuttle]      0   \n",
       "9            0.0000                                           [49, 11]     49   \n",
       "\n",
       "    Min       Mean  \n",
       "0  1442 10188.6458  \n",
       "1     0     0.0000  \n",
       "2     0     0.0000  \n",
       "3     0     0.0000  \n",
       "4     0     0.0000  \n",
       "5     0     0.0000  \n",
       "6     0     0.0000  \n",
       "7     0     0.0000  \n",
       "8     0     0.0000  \n",
       "9    11    34.5343  "
      ]
     },
     "metadata": {},
     "output_type": "display_data"
    }
   ],
   "source": [
    "data_characterization(train)"
   ]
  },
  {
   "cell_type": "code",
   "execution_count": 86,
   "metadata": {},
   "outputs": [],
   "source": [
    "def add_20(x):\n",
    "    date=x.split(\"-\")\n",
    "    date[-1]=\"20\"+date[-1]\n",
    "    return \"-\".join(date)\n",
    "train_df[\"date\"]=(train_df[\"travel_date\"].apply(add_20)+\" \"+train_df[\"travel_time\"]).astype(str)\n",
    "test[\"date\"]=(test[\"travel_date\"]+\" \"+test[\"travel_time\"]).astype(str)\n",
    "\n",
    "def  time_features(x): \n",
    "    x[\"date\"]=pd.to_datetime(x[\"date\"],format='%d-%m-%Y %H:%M')\n",
    "    x[\"dayofweek\"]=x[\"date\"].dt.dayofweek\n",
    "    x[\"dayofyear\"]=x[\"date\"].dt.dayofyear\n",
    "    x[\"dayofmonth\"]=x[\"date\"].dt.day\n",
    "    x[\"year_woy\"]=x[\"date\"].dt.year.astype(str)+x[\"date\"].dt.weekofyear.astype(str)\n",
    "    \n",
    "    x[\"hour\"]=x[\"date\"].dt.hour\n",
    "    x[\"minute\"]=x[\"date\"].dt.minute\n",
    "    x[\"is_weekend\"]=x[\"dayofweek\"].apply( lambda x : 1 if x  in [5,6] else 0 )\n",
    "    x[\"year\"]=x[\"date\"].dt.year\n",
    "    x[\"quarter\"]=x[\"date\"].dt.quarter\n",
    "    \n",
    "\n",
    "    return x \n",
    "train_df=time_features(train_df)\n",
    "\n",
    "\n",
    "def  time_features(x): \n",
    "    x[\"date\"]=pd.to_datetime(x[\"date\"],format='%Y-%m-%d %H:%M')\n",
    "    x[\"dayofweek\"]=x[\"date\"].dt.dayofweek\n",
    "    x[\"hour\"]=x[\"date\"].dt.hour\n",
    "    x[\"minute\"]=x[\"date\"].dt.minute\n",
    "    x[\"dayofyear\"]=x[\"date\"].dt.dayofyear\n",
    "    x[\"dayofmonth\"]=x[\"date\"].dt.day\n",
    "    x[\"is_weekend\"]=x[\"dayofweek\"].apply( lambda x : 1 if x  in [5,6] else 0 )\n",
    "    x[\"year_woy\"]=x[\"date\"].dt.year.astype(str)+x[\"date\"].dt.weekofyear.astype(str)\n",
    "    x[\"year\"]=x[\"date\"].dt.year\n",
    "    x[\"quarter\"]=x[\"date\"].dt.quarter\n",
    "    \n",
    "\n",
    "    \n",
    "    return x \n",
    "test=time_features(test)"
   ]
  },
  {
   "cell_type": "code",
   "execution_count": 87,
   "metadata": {},
   "outputs": [],
   "source": [
    "# train_df=train_df[train_df.travel_from.isin(test.travel_from)]"
   ]
  },
  {
   "cell_type": "code",
   "execution_count": 88,
   "metadata": {},
   "outputs": [],
   "source": [
    "test[\"train\"]=0\n",
    "train_df[\"train\"]=1\n",
    "data=pd.concat([test,train_df])\n",
    "data.sort_values([\"travel_from\",\"date\"],inplace=True,ascending=True)\n",
    "data[\"diff_btw_0_1_next_bus\"]=(data[\"date\"]-data.groupby([\"travel_from\"]).date.shift(-1)).dt.total_seconds()/60/60\n",
    "data[\"diff_btw_0_1_previous_bus\"]=(data[\"date\"]-data.groupby([\"travel_from\"]).date.shift(1)).dt.total_seconds()/60/60\n",
    "data[\"diff_btw_0_2_next_bus\"]=(data[\"date\"]-data.groupby([\"travel_from\"]).date.shift(-2)).dt.total_seconds()/60/60\n",
    "data[\"diff_btw_0_2_previous_bus\"]=(data[\"date\"]-data.groupby([\"travel_from\"]).date.shift(2)).dt.total_seconds()/60/60\n",
    "data[\"diff_btw_0_3_next_bus\"]=(data[\"date\"]-data.groupby([\"travel_from\"]).date.shift(-3)).dt.total_seconds()/60/60\n",
    "data[\"diff_btw_0_3_previous_bus\"]=(data[\"date\"]-data.groupby([\"travel_from\"]).date.shift(3)).dt.total_seconds()/60/60\n",
    "data[\"diff_btw_next_previous_bus\"]=(data.groupby([\"travel_from\"]).date.shift(-1)-data.groupby([\"travel_from\"]).date.shift(1)).dt.total_seconds()/60/60\n",
    "fea=['diff_btw_0_1_next_bus', 'diff_btw_0_1_previous_bus', 'diff_btw_0_2_next_bus', 'diff_btw_0_2_previous_bus',\n",
    "     'diff_btw_0_3_next_bus', 'diff_btw_0_3_previous_bus',\n",
    "     'diff_btw_next_previous_bus']\n",
    "data[fea]=data.groupby([\"travel_from\"])[fea].fillna(method=\"ffill\")\n",
    "data[fea]=data.groupby([\"travel_from\"])[fea].fillna(method=\"backfill\")\n",
    "\n"
   ]
  },
  {
   "cell_type": "code",
   "execution_count": 89,
   "metadata": {},
   "outputs": [],
   "source": [
    "# data.sort_values([\"travel_from\",\"date\",\"car_type\"],inplace=True,ascending=True)\n",
    "# data.reset_index(inplace=True,drop=True)\n",
    "# data[\"diff_btw_0_1_next_bus_car_type\"]=(data[\"date\"]-data.groupby([\"travel_from\",\"car_type\"]).date.shift(-1)).dt.total_seconds()/60/60\n",
    "# data[\"diff_btw_0_1_previous_bus_car_type\"]=(data[\"date\"]-data.groupby([\"travel_from\",\"car_type\"]).date.shift(1)).dt.total_seconds()/60/60\n",
    "# data[\"diff_btw_0_2_next_bus_car_type\"]=(data[\"date\"]-data.groupby([\"travel_from\",\"car_type\"]).date.shift(-2)).dt.total_seconds()/60/60\n",
    "# data[\"diff_btw_0_2_previous_bus_car_type\"]=(data[\"date\"]-data.groupby([\"travel_from\",\"car_type\"]).date.shift(2)).dt.total_seconds()/60/60\n",
    "# data[\"diff_btw_0_3_next_bus_car_type\"]=(data[\"date\"]-data.groupby([\"travel_from\",\"car_type\"]).date.shift(-3)).dt.total_seconds()/60/60\n",
    "# data[\"diff_btw_0_3_previous_bus_car_type\"]=(data[\"date\"]-data.groupby([\"travel_from\",\"car_type\"]).date.shift(3)).dt.total_seconds()/60/60\n",
    "# data[\"diff_btw_next_previous_bus_car_type\"]=(data.groupby([\"travel_from\"]).date.shift(-1)-data.groupby([\"travel_from\",\"car_type\"]).date.shift(1)).dt.total_seconds()/60/60\n",
    "# fea=['diff_btw_0_1_next_bus_car_type', 'diff_btw_0_1_previous_bus_car_type', 'diff_btw_0_2_next_bus_car_type', 'diff_btw_0_2_previous_bus_car_type',\n",
    "#      'diff_btw_0_3_next_bus_car_type', 'diff_btw_0_3_previous_bus_car_type',\n",
    "#      'diff_btw_next_previous_bus_car_type']\n",
    "# for col in fea : \n",
    "#     data[col]=data.groupby([\"travel_from\",\"car_type\"],as_index=False)[col].fillna(method=\"ffill\").reset_index(drop=[0,1])\n",
    "#     data[col]=data.groupby([\"travel_from\",\"car_type\"],as_index=False)[col].fillna(method=\"backfill\").reset_index(drop=[0,1])"
   ]
  },
  {
   "cell_type": "code",
   "execution_count": 90,
   "metadata": {},
   "outputs": [],
   "source": [
    "data[\"diff_btw_0_1_next_bus_bins\"]=pd.cut(data.diff_btw_0_1_next_bus,100,labels=False)\n",
    "data[\"diff_btw_0_1_previous_bus_bins\"]=pd.cut(data.diff_btw_0_1_previous_bus,100,labels=False)\n",
    "\n",
    "data[\"diff_btw_0_2_next_bus_bins\"]=pd.cut(data.diff_btw_0_1_next_bus,100,labels=False)\n",
    "data[\"diff_btw_0_2_previous_bus_bins\"]=pd.cut(data.diff_btw_0_1_previous_bus,100,labels=False)"
   ]
  },
  {
   "cell_type": "code",
   "execution_count": 91,
   "metadata": {},
   "outputs": [],
   "source": [
    "holidays_date=[datetime(2018,1,1),\n",
    "              datetime(2018,3,30),\n",
    "              datetime(2018,4,2),\n",
    "              datetime(2018,6,1),\n",
    "              datetime(2018,6,15),\n",
    "              datetime(2017,10,20),\n",
    "              datetime(2017,11,7),\n",
    "              datetime(2017,12,12),\n",
    "              datetime(2017,12,25),\n",
    "              datetime(2017,12,26)]\n",
    "                                      \n",
    "holidays_date_mins_one_day=[ (day- timedelta(days=1)).date() for day in holidays_date]\n",
    "holidays_date_mins_two_day=[ (day- timedelta(days=2)).date() for day in holidays_date]\n",
    "\n",
    "holidays_date_plus_one_day=[ (day+ timedelta(days=1)).date() for day in holidays_date]\n",
    "holidays_date=[ day.date() for day in holidays_date]\n",
    "\n",
    "data[\"is_holidays\"]=0\n",
    "data[\"is_yesterday_holidays\"]=0\n",
    "data[\"is_tommorw_holidays\"]=0\n",
    "data[\"is_after_toomorw_holidays\"]=0\n",
    "\n",
    "\n",
    "\n",
    "data.loc[data.date.dt.date.isin(holidays_date),\"is_holidays\"]=1\n",
    "data.loc[data.date.dt.date.isin(holidays_date_mins_one_day),\"is_tommorw_holidays\"]=1\n",
    "data.loc[data.date.dt.date.isin(holidays_date_plus_one_day),\"is_yesterday_holidays\"]=1\n",
    "data.loc[data.date.dt.date.isin(holidays_date_mins_two_day),\"is_after_toomorw_holidays\"]=1"
   ]
  },
  {
   "cell_type": "code",
   "execution_count": 92,
   "metadata": {},
   "outputs": [],
   "source": [
    "# data[\"count_trip_per_date\"]=data.groupby(\"date\").ride_id.transform(\"count\")\n",
    "# data[\"count_trip_per_date_travel_from\"]=data.groupby([\"date\",\"travel_from\"]).ride_id.transform(\"count\")\n",
    "\n",
    "# data.sort_values(\"date\",inplace=True)\n",
    "# data[\"count_trip_per_date_yesterday\"]=data.groupby(\"date\").count_trip_per_day.shift(1)\n",
    "# data[\"count_trip_per_date_tommorw\"]=data.groupby(\"date\").count_trip_per_day.shift(-1)\n",
    "# fea=[\"count_trip_per_date_yesterday\",\"count_trip_per_date_tommorw\"]\n",
    "# data[fea]=data[fea].fillna(method=\"ffill\")\n",
    "# data[fea]=data[fea].fillna(method=\"backfill\")"
   ]
  },
  {
   "cell_type": "code",
   "execution_count": 93,
   "metadata": {},
   "outputs": [],
   "source": [
    "# data[\"Date\"]=data.date.dt.date\n",
    "# data[\"count_trip_per_day\"]=data.groupby(\"Date\").ride_id.transform(\"count\")\n",
    "# data[\"count_trip_per_day_travel_from\"]=data.groupby([\"Date\",\"travel_from\"]).ride_id.transform(\"count\")\n",
    "\n",
    "# data.sort_values(\"date\",inplace=True)\n",
    "# data[\"count_trip_per_day_yesterday\"]=data.groupby(\"Date\").count_trip_per_day.shift(1)\n",
    "# data[\"count_trip_per_day_tommorw\"]=data.groupby(\"Date\").count_trip_per_day.shift(-1)\n",
    "# fea=[\"count_trip_per_day_yesterday\",\"count_trip_per_day_tommorw\"]\n",
    "# data[fea]=data[fea].fillna(method=\"ffill\")\n",
    "# data[fea]=data[fea].fillna(method=\"backfill\")\n",
    "# del data[\"Date\"]"
   ]
  },
  {
   "cell_type": "code",
   "execution_count": 94,
   "metadata": {},
   "outputs": [],
   "source": [
    "# # data[\"count_trip_per_week\"]=data.groupby(\"year_woy\").ride_id.transform(\"count\")\n",
    "# # data[\"count_trip_per_month\"]=data.groupby([pd.Grouper(key=\"date\",freq='M')]).ride_id.transform(\"count\")\n",
    "# data[\"count_trip_per_1min\"]=data.groupby([pd.Grouper(key=\"date\",freq='1min')]).ride_id.transform(\"count\")\n",
    "# data[\"count_trip_per_3min\"]=data.groupby([pd.Grouper(key=\"date\",freq='3min')]).ride_id.transform(\"count\")\n",
    "\n",
    "# data[\"count_trip_per_5min\"]=data.groupby([pd.Grouper(key=\"date\",freq='5min')]).ride_id.transform(\"count\")\n",
    "# data[\"count_trip_per_10min\"]=data.groupby([pd.Grouper(key=\"date\",freq='10min')]).ride_id.transform(\"count\")\n",
    "# data[\"count_trip_per_15min\"]=data.groupby([pd.Grouper(key=\"date\",freq='15min')]).ride_id.transform(\"count\")\n",
    "# data[\"count_trip_per_30min\"]=data.groupby([pd.Grouper(key=\"date\",freq='30min')]).ride_id.transform(\"count\")\n",
    "# data[\"count_trip_per_60min\"]=data.groupby([pd.Grouper(key=\"date\",freq='60min')]).ride_id.transform(\"count\")\n",
    "\n",
    "\n",
    "# # data[\"count_trip_per_week_travel_from\"]=data.groupby([\"year_woy\",\"travel_from\"]).ride_id.transform(\"count\")\n",
    "# # data[\"count_trip_per_month_travel_from\"]=data.groupby([pd.Grouper(key=\"date\",freq='M'),\"travel_from\"]).ride_id.transform(\"count\")\n",
    "# # data[\"count_trip_per_4days_travel_from\"]=data.groupby([pd.Grouper(key=\"date\",freq='4d'),\"travel_from\"]).ride_id.transform(\"count\")\n",
    "# data[\"count_trip_per_1min_travel_from\"]=data.groupby([pd.Grouper(key=\"date\",freq='1min'),\"travel_from\"]).ride_id.transform(\"count\")\n",
    "# data[\"count_trip_per_3min_travel_from\"]=data.groupby([pd.Grouper(key=\"date\",freq='3min'),\"travel_from\"]).ride_id.transform(\"count\")\n",
    "\n",
    "# data[\"count_trip_per_5min_travel_from\"]=data.groupby([pd.Grouper(key=\"date\",freq='5min'),\"travel_from\"]).ride_id.transform(\"count\")\n",
    "# data[\"count_trip_per_10min_travel_from\"]=data.groupby([pd.Grouper(key=\"date\",freq='10min'),\"travel_from\"]).ride_id.transform(\"count\")\n",
    "# data[\"count_trip_per_15min_travel_from\"]=data.groupby([pd.Grouper(key=\"date\",freq='15min'),\"travel_from\"]).ride_id.transform(\"count\")\n",
    "# data[\"count_trip_per_30min_travel_from\"]=data.groupby([pd.Grouper(key=\"date\",freq='30min'),\"travel_from\"]).ride_id.transform(\"count\")\n",
    "# data[\"count_trip_per_60min_travel_from\"]=data.groupby([pd.Grouper(key=\"date\",freq='60min'),\"travel_from\"]).ride_id.transform(\"count\")\n",
    "\n",
    "# # del data[\"year_woy\"]\n",
    "for i in [1,3,5,7,10,15] :\n",
    "# for i in [1,3,5,7,10,15] :\n",
    "\n",
    "    data[\"count_trip_per_{}min_travel_from\".format(str(i))]=data.groupby([pd.Grouper(key=\"date\",freq='{}min'.format(i)),\"travel_from\"]).ride_id.transform(\"count\")\n",
    "    data[\"count_trip_per_{}min\".format(str(i))]=data.groupby([pd.Grouper(key=\"date\",freq='{}min'.format(i))]).ride_id.transform(\"count\")\n"
   ]
  },
  {
   "cell_type": "code",
   "execution_count": 95,
   "metadata": {},
   "outputs": [],
   "source": [
    "# data[\"last1mnt\"]=data.date.map(data.groupby([pd.Grouper(key=\"date\",freq='{}min'.format(5))]).ride_id.count().sort_index().shift(1))\n",
    "# data[\"next1mnt\"]=data.date.map(data.groupby([pd.Grouper(key=\"date\",freq='{}min'.format(5))]).ride_id.count().sort_index().shift(-1))\n",
    "# fea=[\"next1mnt\",\"last1mnt\"]\n",
    "# data[fea]=data[fea].fillna(method=\"ffill\")\n",
    "# data[fea]=data[fea].fillna(method=\"backfill\")"
   ]
  },
  {
   "cell_type": "code",
   "execution_count": 96,
   "metadata": {},
   "outputs": [],
   "source": [
    "# print(data.count_trip_per_1min.min(),data.count_trip_per_1min.max())\n",
    "# print(data.count_trip_per_5min.min(),data.count_trip_per_5min.max())\n",
    "# print(data.count_trip_per_10min.min(),data.count_trip_per_10min.max())\n",
    "# print(data.count_trip_per_15min.min(),data.count_trip_per_15min.max())\n",
    "# data.count_trip_per_1min.hist(bins=100)\n",
    "# plt.show()\n",
    "# data.count_trip_per_5min.hist(bins=100)\n",
    "# plt.show()\n",
    "# data.count_trip_per_10min.hist(bins=100)\n",
    "# plt.show()\n",
    "# data.count_trip_per_15min.hist(bins=100)\n",
    "# plt.show()"
   ]
  },
  {
   "cell_type": "code",
   "execution_count": 97,
   "metadata": {},
   "outputs": [],
   "source": [
    "# data[\"days_min_max_ride\"]=(data.groupby([\"travel_from\"]).date.transform(\"max\")-data.groupby([\"travel_from\"]).date.transform(\"min\")).dt.total_seconds()/(60*60)\n",
    "# data[\"days_since_first_ride\"]=-((data.groupby([\"travel_from\"]).date.transform(\"min\")-data.date).dt.total_seconds())/(60*60)\n",
    "# data[\"days_since_last_ride\"]=((data.groupby([\"travel_from\"]).date.transform(\"max\")-data.date).dt.total_seconds())/(60*60)  \n"
   ]
  },
  {
   "cell_type": "code",
   "execution_count": 98,
   "metadata": {},
   "outputs": [],
   "source": [
    "distance = {'Migori': 372 , 'Keroka': 281, 'Homa Bay':364, 'Kisii':305.1, 'Keumbu':295, 'Rongo':332,\n",
    "'Kijauri':271, 'Oyugis':330.6, 'Awendo':351, 'Sirare':392, 'Nyachenge':326, 'Kehancha': 387.7,\n",
    "'Kendu Bay':347, 'Sori':399, 'Rodi':348, 'Mbita':401, 'Ndhiwa': 371}\n",
    "data[\"travel_from_distance\"]=data.travel_from.map(distance)"
   ]
  },
  {
   "cell_type": "code",
   "execution_count": 99,
   "metadata": {},
   "outputs": [],
   "source": [
    "# time = {'Migori': 35,240 , 'Keroka': , 'Homa Bay':40,319, 'Kisii':28,547 , 'Keumbu': , 'Rongo':,\n",
    "# 'Kijauri':,'Oyugis':10,116, 'Awendo':, 'Sirare':, 'Nyachenge':, 'Kehancha':,\n",
    "# 'Kendu Bay':, 'Sori':, 'Rodi':, 'Mbita':, 'Ndhiwa': }\n",
    "# data[\"travel_from_time\"]=data.travel_from.map(time)"
   ]
  },
  {
   "cell_type": "code",
   "execution_count": 100,
   "metadata": {},
   "outputs": [],
   "source": [
    "time = {'Migori': 7*60+8 , 'Keroka': 5*60, 'Homa Bay':7*60, 'Kisii':5*60+34, 'Keumbu':5*60+20, 'Rongo':6*60+21,\n",
    "'Kijauri':60*4+50,'Oyugis':5*60+50, 'Awendo':6*60+38, 'Sirare':7*60+30, 'Nyachenge':6*60+10, 'Kehancha':7*60+10,\n",
    "'Kendu Bay':6*60+10, 'Sori':7*60+30, 'Rodi':6*60+40, 'Mbita':7*60+23, 'Ndhiwa': 7*60}\n",
    "data[\"travel_from_time\"]=data.travel_from.map(time)"
   ]
  },
  {
   "cell_type": "code",
   "execution_count": 101,
   "metadata": {},
   "outputs": [],
   "source": [
    "data[\"Speed\"]=data.travel_from_time/data.travel_from_distance\n",
    "data[\"Speed_max_capicty\"]=(data.travel_from_time/data.travel_from_distance)*data.max_capacity"
   ]
  },
  {
   "cell_type": "code",
   "execution_count": 102,
   "metadata": {},
   "outputs": [],
   "source": [
    "from datetime import datetime, timedelta\n",
    "\n",
    "time = {'Migori': 7*60+8 , 'Keroka': 5*60, 'Homa Bay':7*60, 'Kisii':5*60+34, 'Keumbu':5*60+20, 'Rongo':6*60+21,\n",
    "'Kijauri':60*4+50,'Oyugis':5*60+50, 'Awendo':6*60+38, 'Sirare':7*60+30, 'Nyachenge':6*60+10, 'Kehancha':7*60+10,\n",
    "'Kendu Bay':6*60+10, 'Sori':7*60+30, 'Rodi':6*60+40, 'Mbita':7*60+23, 'Ndhiwa': 7*60}\n",
    "for key in time.keys(): \n",
    "    time[key]=timedelta( minutes=time[key])\n",
    "data[\"travel_from_date\"]=data.travel_from.map(time)\n",
    "data[\"arrived_date\"]=data.date+ data.travel_from_date\n",
    "data[\"hod_arrived_date\"]=data[\"arrived_date\"].dt.hour\n",
    "data[\"minute_arrived_date\"]=data[\"arrived_date\"].dt.minute\n",
    "del data[\"travel_from_date\"],data[\"arrived_date\"]\n",
    "data[\"is_rush_hour\"]=0\n",
    "data.loc[data.hod_arrived_date.between(7,17),\"is_rush_hour\"]=1"
   ]
  },
  {
   "cell_type": "code",
   "execution_count": 103,
   "metadata": {},
   "outputs": [],
   "source": [
    "# external_data=pd.read_csv(\"../Untitled Folder/external_data.csv\")\n",
    "# data=data.merge(external_data,how=\"left\",on=\"travel_from\")"
   ]
  },
  {
   "cell_type": "code",
   "execution_count": 104,
   "metadata": {},
   "outputs": [],
   "source": [
    "external_data=pd.read_csv(\"../data/weather/weather_mean.csv\")\n",
    "# external_data=pd.read_csv(\"../data/weather/weather_mean_v2.csv\")\n",
    "\n",
    "external_data[\"date\"]=pd.to_datetime(external_data.date).dt.date\n",
    "data[\"12H\"]=data[\"hour\"].apply(lambda x : 1 if 0<=x<12 else  0 )\n",
    "data.date=data.date.dt.date\n",
    "data=data.merge(external_data,how=\"left\",on=[\"12H\",\"date\"])\n",
    "# del data[\"12H\"]"
   ]
  },
  {
   "cell_type": "code",
   "execution_count": 105,
   "metadata": {},
   "outputs": [],
   "source": [
    "# external_data=pd.read_csv(\"../data/weather/weather_median.csv\")\n",
    "# external_data[\"date\"]=pd.to_datetime(external_data.date).dt.date\n",
    "# data[\"12H\"]=data[\"hour\"].apply(lambda x : 1 if 0<=x<12 else  0 )\n",
    "# data=data.merge(external_data,how=\"left\",on=[\"12H\",\"date\"])\n",
    "# del data[\"12H\"]\n"
   ]
  },
  {
   "cell_type": "code",
   "execution_count": 106,
   "metadata": {},
   "outputs": [],
   "source": [
    "data[\"count_travel_from\"]=data.travel_from.map(data.travel_from.value_counts())\n",
    "data[\"count_travel_from\"]=pd.cut(data[\"count_travel_from\"],35,labels=False)"
   ]
  },
  {
   "cell_type": "code",
   "execution_count": 107,
   "metadata": {},
   "outputs": [],
   "source": [
    "data[\"time_minute\"]=data.hour*60+data.minute"
   ]
  },
  {
   "cell_type": "code",
   "execution_count": 108,
   "metadata": {},
   "outputs": [],
   "source": [
    "# data_mini=data[data.car_type==\"Bus\"]\n",
    "# data_mini=data_mini.groupby([\"travel_from\",\"travel_date\"]).ride_id.count().rename(\"Count_bus_per_travel_from_date\").reset_index()\n",
    "# data=data.merge(data_mini,on=[\"travel_from\",\"travel_date\"],how=\"left\")\n",
    "\n",
    "# data_mini=data[data.car_type==\"shuttle\"]\n",
    "# data_mini=data_mini.groupby([\"travel_from\",\"travel_date\"]).ride_id.count().rename(\"Count_shuttle_per_travel_from_date\").reset_index()\n",
    "# data=data.merge(data_mini,on=[\"travel_from\",\"travel_date\"],how=\"left\")"
   ]
  },
  {
   "cell_type": "code",
   "execution_count": 109,
   "metadata": {},
   "outputs": [],
   "source": [
    "# data.Count_shuttle_per_travel_from_date.fillna(0,inplace=True)\n",
    "# data.Count_bus_per_travel_from_date.fillna(0,inplace=True)"
   ]
  },
  {
   "cell_type": "code",
   "execution_count": 110,
   "metadata": {},
   "outputs": [],
   "source": [
    "# data[\"unique_count\"]=1\n",
    "# data.sort_values([\"travel_from\",\"date\"],inplace=True)\n",
    "# data[\"cum_count_per_travel_from\"]=data.groupby([\"travel_from\"]).unique_count.cumsum()\n",
    "# data[\"cum_count_per_travel_from_week_of_year\"]=data.groupby([\"year_woy\",\"travel_from\"]).unique_count.cumsum()\n"
   ]
  },
  {
   "cell_type": "code",
   "execution_count": 111,
   "metadata": {},
   "outputs": [],
   "source": [
    "del data[\"year_woy\"]"
   ]
  },
  {
   "cell_type": "code",
   "execution_count": 112,
   "metadata": {},
   "outputs": [],
   "source": [
    "def haversine(latlong1, latlong2):\n",
    "    lat_1s = np.array([x[0] for x in latlong1])\n",
    "    lon_1s = np.array([x[1] for x in latlong1])\n",
    "    lat_2s = np.array([x[0] for x in latlong2])\n",
    "    lon_2s = np.array([x[1] for x in latlong2])\n",
    "    lon1, lat1, lon2, lat2 = map(np.radians, [lon_1s, lat_1s, lon_2s, lat_2s])\n",
    "    dlon = lon2 - lon1\n",
    "    dlat = lat2 - lat1\n",
    "    a = np.sin(dlat/2.0)**2 + np.cos(lat1) * np.cos(lat2) * np.sin(dlon/2.0)**2\n",
    "    km = 6367 * 2 * np.arcsin(np.sqrt(a))\n",
    "    return km\n",
    "\n",
    "\n",
    "\n",
    "def bearing(latlong1, latlong2):\n",
    "    lat1 = np.array([x[0] for x in latlong1])\n",
    "    lon1 = np.array([x[1] for x in latlong1])\n",
    "    lat2 = np.array([x[0] for x in latlong2])\n",
    "    lon2 = np.array([x[1] for x in latlong2])\n",
    "    delta_lon = np.radians(lon2 - lon1)\n",
    "    lon1, lat1, lon2, lat2 = map(np.radians, [lon1, lat1, lon2, lat2])\n",
    "    x = np.cos(lat2) * np.sin(delta_lon)\n",
    "    y = np.cos(lat1) * np.sin(lat2) - np.sin(lat1) * np.cos(lat2) * np.cos(delta_lon)\n",
    "    return np.degrees(np.arctan2(x, y))"
   ]
  },
  {
   "cell_type": "code",
   "execution_count": 113,
   "metadata": {},
   "outputs": [],
   "source": [
    "lat = {'Migori': -1.063590 , 'Keroka': -0.775880, 'Homa Bay':-0.527180, 'Kisii':-0.674230, 'Keumbu':-0.734310, 'Rongo':-0.755324,\n",
    "'Kijauri':-0.772980, 'Oyugis':-0.509360, 'Awendo':-0.893820, 'Sirare':-1.246610, 'Nyachenge':-0.726110, 'Kehancha': -1.192040,\n",
    "'Kendu Bay':-0.369200, 'Sori':-0.843329, 'Rodi':-0.624863, 'Mbita':-0.421886, 'Ndhiwa': -0.733300}\n",
    "\n",
    "Long = {'Migori': 34.472919 , 'Keroka': 34.945740, 'Homa Bay':34.455711, 'Kisii':34.770741, 'Keumbu':34.846291, 'Rongo':34.599899,\n",
    "'Kijauri':34.967369, 'Oyugis':34.735409, 'Awendo':34.530819, 'Sirare':34.475368, 'Nyachenge':34.648750, 'Kehancha': 34.621380,\n",
    "'Kendu Bay':34.652802, 'Sori':34.158842, 'Rodi':34.502402, 'Mbita':34.207587, 'Ndhiwa': 34.366600}\n",
    "data[\"travel_from_lat\"]=data.travel_from.map(lat)\n",
    "data[\"travel_from_Long\"]=data.travel_from.map(Long)\n",
    "data[\"Afya_Centr_Long\"]=36.827845\n",
    "data[\"Afya_Centr_lat\"]=-1.287811\n",
    "data[\"haversine_distance\"]=haversine(data[['travel_from_lat', 'travel_from_Long']].apply(tuple, axis=1),\n",
    "                                    data[['Afya_Centr_lat', 'Afya_Centr_Long']].apply(tuple, axis=1))\n",
    "\n",
    "data[\"bearing_distance\"]=bearing(data[['travel_from_lat', 'travel_from_Long']].apply(tuple, axis=1),\n",
    "                                    data[['Afya_Centr_lat', 'Afya_Centr_Long']].apply(tuple, axis=1))\n",
    "del data[\"Afya_Centr_Long\"],data[\"Afya_Centr_lat\"]"
   ]
  },
  {
   "cell_type": "code",
   "execution_count": 114,
   "metadata": {},
   "outputs": [],
   "source": [
    "# from sklearn.decomposition import PCA \n",
    "# # pca_array=data[[\"bearing_distance\",\"haversine_distance\",\"travel_from_time\",\"travel_from_distance\"]].values\n",
    "# pca=PCA(n_components=2).fit_transform(data[[\"bearing_distance\",\"haversine_distance\",\"travel_from_time\",\"travel_from_distance\"]])\n",
    "# pca=pd.DataFrame(data=pca,columns=[\"dis_pca_1\",\"dis_pca_2\"])\n",
    "# data=pd.concat([data,pca],axis=1)"
   ]
  },
  {
   "cell_type": "code",
   "execution_count": 208,
   "metadata": {},
   "outputs": [
    {
     "name": "stdout",
     "output_type": "stream",
     "text": [
      "car_type\n",
      "travel_from\n",
      "year\n"
     ]
    }
   ],
   "source": [
    "train_df=data[data.train==1]\n",
    "test_df=data[data.train==0]\n",
    "test_df.drop([\"number_of_ticket\"],axis=1,inplace=True)\n",
    "map_categorical_feautres(Data=[train_df,test_df],columns=[\"car_type\",\"travel_from\",\"year\"])  \n",
    "uber=pd.read_csv(\"./uber_data.csv\")\n",
    "train_df=train_df.merge(uber,how=\"left\",on=\"ride_id\")\n",
    "test_df=test_df.merge(uber,how=\"left\",on=\"ride_id\")"
   ]
  },
  {
   "cell_type": "code",
   "execution_count": 209,
   "metadata": {},
   "outputs": [],
   "source": [
    "col_to_aggr=[[\"hour\"],\n",
    "            [\"travel_from\"],\n",
    "             [\"minute\"] ,\n",
    "            [\"hour\",\"dayofweek\"],\n",
    "            [\"hour\",\"travel_from\"],\n",
    "            [\"dayofweek\",\"travel_from\"] ,\n",
    "             [\"minute\",\"travel_from\"] ,\n",
    "\n",
    "            \n",
    "            \n",
    "\n",
    "\n",
    " ]\n",
    "train_df,test_df=aggr_func(train=train_df,test=test_df,vars_to_agg=col_to_aggr,func=[\"mean\"],\n",
    "         vars_be_agg=\"number_of_ticket\",fillnan=True,bagging=False,ID=\"ride_id\" ,n_folds=6,shuffle=True)\n"
   ]
  },
  {
   "cell_type": "code",
   "execution_count": null,
   "metadata": {},
   "outputs": [],
   "source": []
  },
  {
   "cell_type": "code",
   "execution_count": 210,
   "metadata": {},
   "outputs": [],
   "source": [
    "# per_75=lambda x : np.percentile(x ,75)\n",
    "# per_75.__name__=\"per_80\"\n",
    "\n",
    "# per_60=lambda x : np.percentile(x ,30)\n",
    "# per_60.__name__=\"per_60\"\n",
    "# col_to_aggr=[[\"hour\"],\n",
    "         \n",
    "     \n",
    "#             [\"hour\",\"travel_from\"],\n",
    "          \n",
    "#              [\"minute\",\"travel_from\"] ,\n",
    "\n",
    "   \n",
    "            \n",
    "\n",
    "\n",
    "#  ]\n",
    "# train_df,test_df=aggr_func(train=train_df,test=test_df,vars_to_agg=col_to_aggr,func=[per_75,per_60],\n",
    "#          vars_be_agg=\"number_of_ticket\",fillnan=True,bagging=False,ID=\"ride_id\" ,n_folds=10,shuffle=True)\n"
   ]
  },
  {
   "cell_type": "code",
   "execution_count": 211,
   "metadata": {},
   "outputs": [],
   "source": [
    "col_to_aggr=[\"travel_from\"]\n",
    "#              ,[\"hour\"],[\"minute\"]\n",
    "#             ]\n",
    "train_df,test_df=aggr_func(train=train_df,test=test_df,vars_to_agg=col_to_aggr,func=[\"sum\"],\n",
    "         vars_be_agg=\"number_of_ticket\",fillnan=True,bagging=False,ID=\"ride_id\" ,n_folds=6,shuffle=True)"
   ]
  },
  {
   "cell_type": "code",
   "execution_count": 212,
   "metadata": {},
   "outputs": [],
   "source": [
    "train_df.number_of_ticket_by_travel_from_sum=train_df.number_of_ticket_by_travel_from_sum/train_df.number_of_ticket.sum()\n",
    "test_df.number_of_ticket_by_travel_from_sum=test_df.number_of_ticket_by_travel_from_sum/train_df.number_of_ticket.sum()\n",
    "# train_df.number_of_ticket_by_hour_sum=train_df.number_of_ticket_by_hour_sum/train_df.number_of_ticket.sum()\n",
    "# test_df.number_of_ticket_by_hour_sum=test_df.number_of_ticket_by_hour_sum/train_df.number_of_ticket.sum()\n",
    "# train_df.number_of_ticket_by_minute_sum=train_df.number_of_ticket_by_minute_sum/train_df.number_of_ticket.sum()\n",
    "# test_df.number_of_ticket_by_minute_sum=test_df.number_of_ticket_by_minute_sum/train_df.number_of_ticket.sum()"
   ]
  },
  {
   "cell_type": "code",
   "execution_count": 213,
   "metadata": {},
   "outputs": [],
   "source": [
    "# col_to_aggr=[[\"hour\"],\n",
    "#             [\"travel_from\"],\n",
    "#              [\"minute\"] ,\n",
    "#             [\"hour\",\"dayofweek\"],\n",
    "#             [\"hour\",\"travel_from\"],\n",
    "#             [\"dayofweek\",\"travel_from\"] ,\n",
    "#              [\"minute\",\"travel_from\"] ,\n",
    "\n",
    "\n",
    "\n",
    "\n",
    "\n",
    "#  ]\n",
    "# train_df,test_df=aggr_func(train=train_df,test=test_df,vars_to_agg=col_to_aggr,func=[\"mean\"],\n",
    "#          vars_be_agg=\"Cap_ticket\",fillnan=True,bagging=False,ID=\"ride_id\" ,n_folds=6,shuffle=True)\n"
   ]
  },
  {
   "cell_type": "code",
   "execution_count": 214,
   "metadata": {},
   "outputs": [],
   "source": [
    "# cols=train_df.columns.tolist()\n",
    "# cols.remove(\"number_of_ticket\")\n",
    "# cols=[\"number_of_ticket\"]+cols\n",
    "# correlation_matrix_pandas(train_df[cols])"
   ]
  },
  {
   "cell_type": "code",
   "execution_count": 215,
   "metadata": {},
   "outputs": [],
   "source": [
    "# train_df.date=pd.to_datetime(train_df.date).dt.date\n",
    "# train_df_2018=train_df[train_df.date>=datetime(2018,1,1).date()]\n",
    "# len(train_df_2018)"
   ]
  },
  {
   "cell_type": "code",
   "execution_count": 216,
   "metadata": {},
   "outputs": [],
   "source": [
    "# nbr_of_bins=3\n",
    "# train_df[\"number_of_ticket_bins\"]=pd.cut(train_df.number_of_ticket,nbr_of_bins,labels=False)\n",
    "# count=pd.pivot_table(train_df,values=\"ride_id\",index=[\"travel_from\"],columns=[\"number_of_ticket_bins\"],aggfunc=[\"count\"])\n",
    "# count.columns=[ \"number_of_ticket_bins\"+str(e[1] ) for e  in  count.columns.tolist()]\n",
    "# count.reset_index(inplace=True)\n",
    "# count.fillna(0,inplace=True)\n",
    "# # count[\"totale_count\"]\n",
    "# count.head()\n",
    "# del train_df[\"number_of_ticket_bins\"]\n",
    "# train_df=train_df.merge(count,how=\"left\",on=\"travel_from\")\n",
    "# test_df=test_df.merge(count,how=\"left\",on=\"travel_from\")"
   ]
  },
  {
   "cell_type": "code",
   "execution_count": 217,
   "metadata": {},
   "outputs": [],
   "source": [
    "v=\"5\"\n",
    "\n",
    "train_df.to_csv(\"./final_data/train_{}.csv\".format(v),index=False)\n",
    "test_df.to_csv(\"./final_data/test_{}.csv\".format(v),index=False)"
   ]
  },
  {
   "cell_type": "code",
   "execution_count": null,
   "metadata": {},
   "outputs": [],
   "source": []
  }
 ],
 "metadata": {
  "kernelspec": {
   "display_name": "Python 3",
   "language": "python",
   "name": "python3"
  },
  "language_info": {
   "codemirror_mode": {
    "name": "ipython",
    "version": 3
   },
   "file_extension": ".py",
   "mimetype": "text/x-python",
   "name": "python",
   "nbconvert_exporter": "python",
   "pygments_lexer": "ipython3",
   "version": "3.5.2"
  }
 },
 "nbformat": 4,
 "nbformat_minor": 2
}
